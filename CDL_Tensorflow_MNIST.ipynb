{
  "nbformat": 4,
  "nbformat_minor": 0,
  "metadata": {
    "colab": {
      "name": "CDL-Tensorflow-MNIST.ipynb",
      "provenance": [],
      "collapsed_sections": [],
      "authorship_tag": "ABX9TyPwUOImo4v+VB/L0HRO30tz",
      "include_colab_link": true
    },
    "kernelspec": {
      "name": "python3",
      "display_name": "Python 3"
    },
    "language_info": {
      "name": "python"
    }
  },
  "cells": [
    {
      "cell_type": "markdown",
      "metadata": {
        "id": "view-in-github",
        "colab_type": "text"
      },
      "source": [
        "<a href=\"https://colab.research.google.com/github/LTCrazy/CDL-prereq/blob/main/CDL_Tensorflow_MNIST.ipynb\" target=\"_parent\"><img src=\"https://colab.research.google.com/assets/colab-badge.svg\" alt=\"Open In Colab\"/></a>"
      ]
    },
    {
      "cell_type": "code",
      "execution_count": 16,
      "metadata": {
        "id": "kCNalBQ2nI3_"
      },
      "outputs": [],
      "source": [
        "import tensorflow as tf\n",
        "(x_train, y_train), (x_test, y_test) = tf.keras.datasets.mnist.load_data()"
      ]
    },
    {
      "cell_type": "code",
      "source": [
        "import matplotlib.pyplot as plt\n",
        "%matplotlib inline\n",
        "image_index = 10\n",
        "print('The label is', y_train[image_index]) \n",
        "plt.imshow(x_train[image_index], cmap='Greys')"
      ],
      "metadata": {
        "colab": {
          "base_uri": "https://localhost:8080/",
          "height": 299
        },
        "id": "b9Zzs1-LnPsL",
        "outputId": "ff7215c2-a4ab-4e1f-dfdc-b435760cab17"
      },
      "execution_count": 17,
      "outputs": [
        {
          "output_type": "stream",
          "name": "stdout",
          "text": [
            "The label is 3\n"
          ]
        },
        {
          "output_type": "execute_result",
          "data": {
            "text/plain": [
              "<matplotlib.image.AxesImage at 0x7f321ad6dad0>"
            ]
          },
          "metadata": {},
          "execution_count": 17
        },
        {
          "output_type": "display_data",
          "data": {
            "text/plain": [
              "<Figure size 432x288 with 1 Axes>"
            ],
            "image/png": "[encoded data removed]"
          },
          "metadata": {
            "needs_background": "light"
          }
        }
      ]
    },
    {
      "cell_type": "code",
      "source": [
        "x_train.shape"
      ],
      "metadata": {
        "colab": {
          "base_uri": "https://localhost:8080/"
        },
        "id": "czd_rQhBnb46",
        "outputId": "2bc7633d-2da2-4d1b-f729-f8918b44b951"
      },
      "execution_count": 18,
      "outputs": [
        {
          "output_type": "execute_result",
          "data": {
            "text/plain": [
              "(60000, 28, 28)"
            ]
          },
          "metadata": {},
          "execution_count": 18
        }
      ]
    },
    {
      "cell_type": "code",
      "source": [
        "# Reshaping the array to 4-dims so that it can work with the Keras API\n",
        "x_train = x_train.reshape(x_train.shape[0], 28, 28, 1)\n",
        "x_test = x_test.reshape(x_test.shape[0], 28, 28, 1)\n",
        "input_shape = (28, 28, 1)\n",
        "# Making sure that the values are float so that we can get decimal points after division\n",
        "x_train = x_train.astype('float32')\n",
        "x_test = x_test.astype('float32')\n",
        "# Normalizing the RGB codes by dividing it to the max RGB value.\n",
        "x_train /= 255\n",
        "x_test /= 255\n",
        "# Rotate images by 180 degrees\n",
        "!pip install tensorflow_addons\n",
        "import tensorflow_addons as tfa\n",
        "import math\n",
        "import numpy as np\n",
        "x_train_aug = tfa.image.transform_ops.rotate(x_train, math.pi)\n",
        "x_test_aug = tfa.image.transform_ops.rotate(x_test, math.pi)\n",
        "print('x_train_aug shape', x_train_aug.shape)\n",
        "x_train = np.append(x_train, x_train_aug, axis = 0)\n",
        "x_test = np.append(x_test, x_test_aug, axis = 0)\n",
        "print('x_train shape:', x_train.shape)"
      ],
      "metadata": {
        "colab": {
          "base_uri": "https://localhost:8080/"
        },
        "id": "bssM84mnnlkT",
        "outputId": "8ba347b7-efd6-4308-993b-09d66c9b56a2"
      },
      "execution_count": 19,
      "outputs": [
        {
          "output_type": "stream",
          "name": "stdout",
          "text": [
            "Requirement already satisfied: tensorflow_addons in /usr/local/lib/python3.7/dist-packages (0.16.1)\n",
            "Requirement already satisfied: typeguard>=2.7 in /usr/local/lib/python3.7/dist-packages (from tensorflow_addons) (2.7.1)\n",
            "x_train_aug shape (60000, 28, 28, 1)\n",
            "x_train shape: (120000, 28, 28, 1)\n"
          ]
        }
      ]
    },
    {
      "cell_type": "code",
      "source": [
        "# Convert labels of '0-9' to '0-1' to represent odd and even\n",
        "print('labels range from %d to %d ' % (min(y_train), max(y_train)))\n",
        "y_train %= 2\n",
        "y_test %= 2\n",
        "# y_train = [0 if y_train.all() % 2 == 0 else 1]\n",
        "print('labels range from %d to %d ' % (min(y_train), max(y_train)))\n",
        "# Duplicate labels for augmented images\n",
        "y_train = np.append(y_train, y_train)\n",
        "y_test = np.append(y_test, y_test)\n",
        "print('y_train shape:', y_train.shape)\n",
        "plt.imshow(np.array(x_train_aug[image_index]).squeeze(axis=2), cmap='Greys')"
      ],
      "metadata": {
        "colab": {
          "base_uri": "https://localhost:8080/",
          "height": 333
        },
        "id": "35Wj2E9fpEvg",
        "outputId": "2e531f14-54bb-4ee7-8088-14692d86afd8"
      },
      "execution_count": 20,
      "outputs": [
        {
          "output_type": "stream",
          "name": "stdout",
          "text": [
            "labels range from 0 to 9 \n",
            "labels range from 0 to 1 \n",
            "y_train shape: (120000,)\n"
          ]
        },
        {
          "output_type": "execute_result",
          "data": {
            "text/plain": [
              "<matplotlib.image.AxesImage at 0x7f321ad604d0>"
            ]
          },
          "metadata": {},
          "execution_count": 20
        },
        {
          "output_type": "display_data",
          "data": {
            "text/plain": [
              "<Figure size 432x288 with 1 Axes>"
            ],
            "image/png": "[encoded data removed]"
          },
          "metadata": {
            "needs_background": "light"
          }
        }
      ]
    },
    {
      "cell_type": "code",
      "source": [
        "# Importing the required Keras modules containing model and layers\n",
        "from tensorflow.keras.models import Sequential\n",
        "from tensorflow.keras.layers import Dense, Conv2D, Dropout, Flatten, MaxPooling2D\n",
        "# Creating a Sequential Model and adding the layers\n",
        "model = Sequential()\n",
        "model.add(Conv2D(28, kernel_size=(3,3), input_shape=input_shape))\n",
        "model.add(MaxPooling2D(pool_size=(2, 2)))\n",
        "model.add(Flatten()) # Flattening the 2D arrays for fully connected layers\n",
        "model.add(Dense(128, activation=tf.nn.relu))\n",
        "model.add(Dropout(0.2))\n",
        "model.add(Dense(2,activation=tf.nn.softmax))"
      ],
      "metadata": {
        "id": "GpVsUGkvn4YM"
      },
      "execution_count": 21,
      "outputs": []
    },
    {
      "cell_type": "code",
      "source": [
        "model.compile(optimizer='adam', \n",
        "              loss='sparse_categorical_crossentropy', \n",
        "              metrics=['accuracy'])\n",
        "model.fit(x=x_train,y=y_train, epochs=10)"
      ],
      "metadata": {
        "colab": {
          "base_uri": "https://localhost:8080/"
        },
        "id": "WD5--Fhyopb3",
        "outputId": "75bc26e9-a31e-4c59-f795-3a67b9855134"
      },
      "execution_count": 22,
      "outputs": [
        {
          "output_type": "stream",
          "name": "stdout",
          "text": [
            "Epoch 1/10\n",
            "3750/3750 [==============================] - 69s 18ms/step - loss: 0.1209 - accuracy: 0.9540\n",
            "Epoch 2/10\n",
            "3750/3750 [==============================] - 63s 17ms/step - loss: 0.0613 - accuracy: 0.9784\n",
            "Epoch 3/10\n",
            "3750/3750 [==============================] - 62s 17ms/step - loss: 0.0485 - accuracy: 0.9830\n",
            "Epoch 4/10\n",
            "3750/3750 [==============================] - 62s 17ms/step - loss: 0.0404 - accuracy: 0.9860\n",
            "Epoch 5/10\n",
            "3750/3750 [==============================] - 62s 17ms/step - loss: 0.0331 - accuracy: 0.9881\n",
            "Epoch 6/10\n",
            "3750/3750 [==============================] - 63s 17ms/step - loss: 0.0288 - accuracy: 0.9898\n",
            "Epoch 7/10\n",
            "3750/3750 [==============================] - 63s 17ms/step - loss: 0.0259 - accuracy: 0.9910\n",
            "Epoch 8/10\n",
            "3750/3750 [==============================] - 64s 17ms/step - loss: 0.0228 - accuracy: 0.9921\n",
            "Epoch 9/10\n",
            "3750/3750 [==============================] - 63s 17ms/step - loss: 0.0205 - accuracy: 0.9928\n",
            "Epoch 10/10\n",
            "3750/3750 [==============================] - 63s 17ms/step - loss: 0.0189 - accuracy: 0.9935\n"
          ]
        },
        {
          "output_type": "execute_result",
          "data": {
            "text/plain": [
              "<keras.callbacks.History at 0x7f321a379150>"
            ]
          },
          "metadata": {},
          "execution_count": 22
        }
      ]
    },
    {
      "cell_type": "code",
      "source": [
        "model.evaluate(x_test, y_test)"
      ],
      "metadata": {
        "colab": {
          "base_uri": "https://localhost:8080/"
        },
        "id": "sREPTo63rlLD",
        "outputId": "3c01e79e-3912-4957-952d-b28690c38541"
      },
      "execution_count": 23,
      "outputs": [
        {
          "output_type": "stream",
          "name": "stdout",
          "text": [
            "625/625 [==============================] - 7s 10ms/step - loss: 0.0446 - accuracy: 0.9870\n"
          ]
        },
        {
          "output_type": "execute_result",
          "data": {
            "text/plain": [
              "[0.04458404332399368, 0.9869999885559082]"
            ]
          },
          "metadata": {},
          "execution_count": 23
        }
      ]
    },
    {
      "cell_type": "code",
      "source": [
        "image_index = 4444\n",
        "plt.imshow(x_test[image_index].reshape(28, 28),cmap='Greys')\n",
        "pred = model.predict(x_test[image_index].reshape(1, 28, 28, 1))\n",
        "pred_label = 'odd' if pred.argmax() == 1 else 'even'\n",
        "print('predicted label: ', pred_label)"
      ],
      "metadata": {
        "colab": {
          "base_uri": "https://localhost:8080/",
          "height": 282
        },
        "id": "n2VUYHXAvAGY",
        "outputId": "cd13d73b-ba1c-427a-9e12-a1b445c8192e"
      },
      "execution_count": 24,
      "outputs": [
        {
          "output_type": "stream",
          "name": "stdout",
          "text": [
            "predicted label:  odd\n"
          ]
        },
        {
          "output_type": "display_data",
          "data": {
            "text/plain": [
              "<Figure size 432x288 with 1 Axes>"
            ],
            "image/png": "[encoded data removed]"
          },
          "metadata": {
            "needs_background": "light"
          }
        }
      ]
    },
    {
      "cell_type": "code",
      "source": [
        ""
      ],
      "metadata": {
        "id": "89StFPA8w0KD"
      },
      "execution_count": null,
      "outputs": []
    }
  ]
}